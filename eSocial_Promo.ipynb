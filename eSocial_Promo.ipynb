{
  "nbformat": 4,
  "nbformat_minor": 0,
  "metadata": {
    "colab": {
      "name": "eSocial Promo",
      "provenance": [],
      "collapsed_sections": [
        "Ek01kyJPDtyX",
        "qPVEX-D9D5Ke",
        "B-BLBBZsEAF8",
        "P0f4vpC7EEhE"
      ],
      "authorship_tag": "ABX9TyNcY4Uzhul4uJY8ISXK7k1E",
      "include_colab_link": true
    },
    "kernelspec": {
      "name": "python3",
      "display_name": "Python 3"
    }
  },
  "cells": [
    {
      "cell_type": "markdown",
      "metadata": {
        "id": "view-in-github",
        "colab_type": "text"
      },
      "source": [
        "<a href=\"https://colab.research.google.com/github/MacFernand/Python/blob/master/eSocial_Promo.ipynb\" target=\"_parent\"><img src=\"https://colab.research.google.com/assets/colab-badge.svg\" alt=\"Open In Colab\"/></a>"
      ]
    },
    {
      "cell_type": "markdown",
      "metadata": {
        "id": "Ek01kyJPDtyX",
        "colab_type": "text"
      },
      "source": [
        "# Conectando ao Driver"
      ]
    },
    {
      "cell_type": "code",
      "metadata": {
        "id": "DqZuibtgDxP8",
        "colab_type": "code",
        "outputId": "d74d5213-474a-4685-d53e-eaef0770e481",
        "colab": {
          "base_uri": "https://localhost:8080/",
          "height": 0
        }
      },
      "source": [
        "from google.colab import drive\n",
        "drive.mount('/content/drive')"
      ],
      "execution_count": 1,
      "outputs": [
        {
          "output_type": "stream",
          "text": [
            "Go to this URL in a browser: https://accounts.google.com/o/oauth2/auth?client_id=947318989803-6bn6qk8qdgf4n4g3pfee6491hc0brc4i.apps.googleusercontent.com&redirect_uri=urn%3aietf%3awg%3aoauth%3a2.0%3aoob&response_type=code&scope=email%20https%3a%2f%2fwww.googleapis.com%2fauth%2fdocs.test%20https%3a%2f%2fwww.googleapis.com%2fauth%2fdrive%20https%3a%2f%2fwww.googleapis.com%2fauth%2fdrive.photos.readonly%20https%3a%2f%2fwww.googleapis.com%2fauth%2fpeopleapi.readonly\n",
            "\n",
            "Enter your authorization code:\n",
            "··········\n",
            "Mounted at /content/drive\n"
          ],
          "name": "stdout"
        }
      ]
    },
    {
      "cell_type": "markdown",
      "metadata": {
        "id": "qPVEX-D9D5Ke",
        "colab_type": "text"
      },
      "source": [
        "# Importando DataTable Google Colab"
      ]
    },
    {
      "cell_type": "code",
      "metadata": {
        "id": "7Lu6OvT1D7FN",
        "colab_type": "code",
        "colab": {}
      },
      "source": [
        "%load_ext google.colab.data_table"
      ],
      "execution_count": 0,
      "outputs": []
    },
    {
      "cell_type": "code",
      "metadata": {
        "id": "GoRv1R5xD9_N",
        "colab_type": "code",
        "colab": {}
      },
      "source": [
        "from google.colab import data_table"
      ],
      "execution_count": 0,
      "outputs": []
    },
    {
      "cell_type": "markdown",
      "metadata": {
        "id": "B-BLBBZsEAF8",
        "colab_type": "text"
      },
      "source": [
        "# Importando Bibliotecas"
      ]
    },
    {
      "cell_type": "code",
      "metadata": {
        "id": "_QYzpNHaEB3V",
        "colab_type": "code",
        "colab": {}
      },
      "source": [
        "import pandas as pd\n",
        "import random as rd\n",
        "import numpy  as np"
      ],
      "execution_count": 0,
      "outputs": []
    },
    {
      "cell_type": "markdown",
      "metadata": {
        "id": "P0f4vpC7EEhE",
        "colab_type": "text"
      },
      "source": [
        "# Importando banco de dados"
      ]
    },
    {
      "cell_type": "code",
      "metadata": {
        "id": "a7E9ZevaEFkk",
        "colab_type": "code",
        "colab": {}
      },
      "source": [
        "# Importando Dados de várias tabelas.\n",
        "df_es   = pd.read_csv('/content/drive/My Drive/Projetos/Promofarma/MateSocial/eSocial.csv', sep=';', names=list(range(500))).dropna(axis='columns', how='all')"
      ],
      "execution_count": 0,
      "outputs": []
    },
    {
      "cell_type": "code",
      "metadata": {
        "id": "nKoqffw9OJOW",
        "colab_type": "code",
        "colab": {}
      },
      "source": [
        "df_col = pd.read_csv('/content/drive/My Drive/Projetos/Promofarma/MateSocial/ColaSocial.csv', sep=';')"
      ],
      "execution_count": 0,
      "outputs": []
    },
    {
      "cell_type": "code",
      "metadata": {
        "id": "qsDiEccGfeue",
        "colab_type": "code",
        "colab": {}
      },
      "source": [
        "df_lj8 = pd.read_csv('/content/drive/My Drive/Projetos/Promofarma/MateSocial/LJ08.csv', sep=';')"
      ],
      "execution_count": 0,
      "outputs": []
    },
    {
      "cell_type": "code",
      "metadata": {
        "id": "BYFz06tCltWK",
        "colab_type": "code",
        "colab": {}
      },
      "source": [
        "df_lj = pd.read_excel('/content/drive/My Drive/Projetos/Promofarma/MateSocial/LJ 08.xlsx', sep='\\t')"
      ],
      "execution_count": 0,
      "outputs": []
    },
    {
      "cell_type": "markdown",
      "metadata": {
        "id": "4fXobXG-Ei64",
        "colab_type": "text"
      },
      "source": [
        "# Pesquisa!!"
      ]
    },
    {
      "cell_type": "code",
      "metadata": {
        "id": "fDkev50-EoF0",
        "colab_type": "code",
        "colab": {}
      },
      "source": [
        "# Listando nome colaborador.\n",
        "df_es[df_es.apply(lambda row: row.astype(str).str.contains('ROBERTO RODRIGUES ARAUJO').any(), axis=1)] "
      ],
      "execution_count": 0,
      "outputs": []
    },
    {
      "cell_type": "code",
      "metadata": {
        "id": "M0YRsxonUySf",
        "colab_type": "code",
        "colab": {}
      },
      "source": [
        "# Listando matricula do eSocial.\n",
        "df_es[df_es.apply(lambda row: row.astype(str).str.contains('40355959852101270920190101').any(), axis=1)]"
      ],
      "execution_count": 0,
      "outputs": []
    },
    {
      "cell_type": "code",
      "metadata": {
        "id": "Q1kKU31aOU2f",
        "colab_type": "code",
        "colab": {}
      },
      "source": [
        "result = pd.concat([df_lj8, df_col], axis=1)"
      ],
      "execution_count": 0,
      "outputs": []
    },
    {
      "cell_type": "code",
      "metadata": {
        "id": "xGi16nuHOrqA",
        "colab_type": "code",
        "colab": {}
      },
      "source": [
        "frames = [df_lj, df_col]"
      ],
      "execution_count": 0,
      "outputs": []
    },
    {
      "cell_type": "code",
      "metadata": {
        "id": "4GTupHGMO3Ao",
        "colab_type": "code",
        "colab": {}
      },
      "source": [
        "result = pd.concat(frames)\n",
        "print(result)"
      ],
      "execution_count": 0,
      "outputs": []
    },
    {
      "cell_type": "code",
      "metadata": {
        "id": "r_35Nc_TO4q_",
        "colab_type": "code",
        "colab": {}
      },
      "source": [
        "result = pd.concat([df_lj8, df_col], axis=1)"
      ],
      "execution_count": 0,
      "outputs": []
    },
    {
      "cell_type": "code",
      "metadata": {
        "id": "1w-WVCO5O_qA",
        "colab_type": "code",
        "colab": {}
      },
      "source": [
        "col = pd.concat([df_lj8, df_col], axis=1, join='inner')"
      ],
      "execution_count": 0,
      "outputs": []
    },
    {
      "cell_type": "code",
      "metadata": {
        "id": "ID2U3YbZPXcU",
        "colab_type": "code",
        "colab": {}
      },
      "source": [
        "result"
      ],
      "execution_count": 0,
      "outputs": []
    },
    {
      "cell_type": "code",
      "metadata": {
        "id": "jRisQ_64PqlM",
        "colab_type": "code",
        "colab": {}
      },
      "source": [
        "result = pd.concat([df_lj8, df_col], axis=1, join_axes=[df_lj8.index])"
      ],
      "execution_count": 0,
      "outputs": []
    },
    {
      "cell_type": "code",
      "metadata": {
        "id": "GNfq8I3oPuVc",
        "colab_type": "code",
        "colab": {}
      },
      "source": [
        "join_cond = (df_lj8[\"Matrícula eSocial\"] == df_lj[\"Nome\"]) & (df_lj[\"Matrícula eSocial\"] == df_lj8[\"Nome\"])  \n"
      ],
      "execution_count": 0,
      "outputs": []
    },
    {
      "cell_type": "code",
      "metadata": {
        "id": "juugmExIQ7u5",
        "colab_type": "code",
        "colab": {}
      },
      "source": [
        "df3 = pd.concat((df_lj8[join_cond], df_col[join_cond][[\"Matrícula eSocial\"]] ), axis=1)   "
      ],
      "execution_count": 0,
      "outputs": []
    },
    {
      "cell_type": "code",
      "metadata": {
        "id": "wEd1kKFzeUby",
        "colab_type": "code",
        "colab": {}
      },
      "source": [
        "result = df_lj8.append(df_col, ignore_index=True)"
      ],
      "execution_count": 0,
      "outputs": []
    },
    {
      "cell_type": "code",
      "metadata": {
        "id": "67dT_YmPtMZJ",
        "colab_type": "code",
        "colab": {}
      },
      "source": [
        "result = pd.merge(left, right, how='right', on=['Nome', 'kMatrícula eSocial'])"
      ],
      "execution_count": 0,
      "outputs": []
    },
    {
      "cell_type": "code",
      "metadata": {
        "id": "fcZGk3RQgxjI",
        "colab_type": "code",
        "colab": {}
      },
      "source": [
        "df_col"
      ],
      "execution_count": 0,
      "outputs": []
    },
    {
      "cell_type": "code",
      "metadata": {
        "id": "o2wd6EhQgzKn",
        "colab_type": "code",
        "colab": {}
      },
      "source": [
        "df_lj8"
      ],
      "execution_count": 0,
      "outputs": []
    },
    {
      "cell_type": "code",
      "metadata": {
        "id": "kajY18hlhNW4",
        "colab_type": "code",
        "colab": {}
      },
      "source": [
        "df_lj"
      ],
      "execution_count": 0,
      "outputs": []
    },
    {
      "cell_type": "code",
      "metadata": {
        "id": "Nl33KIRTtqGo",
        "colab_type": "code",
        "colab": {}
      },
      "source": [
        "join_cond = (df_lj8[\"Matrícula eSocial\"] == df_col[\"Matrícula eSocial\"]) "
      ],
      "execution_count": 0,
      "outputs": []
    },
    {
      "cell_type": "code",
      "metadata": {
        "id": "vXDoH_MSvrkD",
        "colab_type": "code",
        "colab": {}
      },
      "source": [
        " result.loc['y']"
      ],
      "execution_count": 0,
      "outputs": []
    },
    {
      "cell_type": "code",
      "metadata": {
        "id": "7jfXrYovwXbW",
        "colab_type": "code",
        "colab": {}
      },
      "source": [
        "df_lj8.drop('Unnamed: 3', inplace=True, axis=1)"
      ],
      "execution_count": 0,
      "outputs": []
    },
    {
      "cell_type": "code",
      "metadata": {
        "id": "-Xa2idmlvxTU",
        "colab_type": "code",
        "colab": {}
      },
      "source": [
        "resul = pd.concat([df_lj8, df_col], axis=1)\n",
        "resul"
      ],
      "execution_count": 0,
      "outputs": []
    },
    {
      "cell_type": "code",
      "metadata": {
        "id": "8nkbE8xOv7A8",
        "colab_type": "code",
        "colab": {}
      },
      "source": [
        "df_lj8.corr()"
      ],
      "execution_count": 0,
      "outputs": []
    },
    {
      "cell_type": "code",
      "metadata": {
        "id": "xc98lDNE8zJg",
        "colab_type": "code",
        "colab": {}
      },
      "source": [
        "df_lj8['Matrícula eSocial']=pd.to_numeric(df_col['Matrícula eSocial'], errors='coerce')"
      ],
      "execution_count": 0,
      "outputs": []
    },
    {
      "cell_type": "code",
      "metadata": {
        "id": "0QWKksWL9_8K",
        "colab_type": "code",
        "colab": {}
      },
      "source": [
        "# Concatena varios arquivos em um DataFrame\n",
        "df_exp = pd.concat([resul], ignore_index=True)"
      ],
      "execution_count": 0,
      "outputs": []
    },
    {
      "cell_type": "code",
      "metadata": {
        "id": "sh2rWw7B-Ja6",
        "colab_type": "code",
        "colab": {}
      },
      "source": [
        "df_exp"
      ],
      "execution_count": 0,
      "outputs": []
    },
    {
      "cell_type": "code",
      "metadata": {
        "id": "37kyal2m-Kai",
        "colab_type": "code",
        "colab": {}
      },
      "source": [
        "# Criando arquivo a partir de dataframe\n",
        "from google.colab import files\n",
        "df_exp.to_csv('eSocialColaborador.txt', sep=';') \n"
      ],
      "execution_count": 0,
      "outputs": []
    },
    {
      "cell_type": "code",
      "metadata": {
        "id": "shUu9r0c--br",
        "colab_type": "code",
        "colab": {}
      },
      "source": [
        "# Realizar download do arquivo\n",
        "files.download('eSocialColaborador.txt')"
      ],
      "execution_count": 0,
      "outputs": []
    },
    {
      "cell_type": "code",
      "metadata": {
        "id": "Tw_kzrwVKj0d",
        "colab_type": "code",
        "colab": {}
      },
      "source": [
        "resul = pd.concat([df_lj8,df_col], keys=['Matrícula eSocial', 'Matrícula eSocial'] ignore_index=True)"
      ],
      "execution_count": 0,
      "outputs": []
    },
    {
      "cell_type": "code",
      "metadata": {
        "id": "66P3KZ8PKtUS",
        "colab_type": "code",
        "colab": {}
      },
      "source": [
        "df_conc.head(20)"
      ],
      "execution_count": 0,
      "outputs": []
    },
    {
      "cell_type": "code",
      "metadata": {
        "id": "JnAacjW4Mif7",
        "colab_type": "code",
        "colab": {}
      },
      "source": [
        "pd.concat([cadastro_a,cadastro_b],ignore_index=True)"
      ],
      "execution_count": 0,
      "outputs": []
    },
    {
      "cell_type": "code",
      "metadata": {
        "id": "oW_c9WuQNCQK",
        "colab_type": "code",
        "colab": {}
      },
      "source": [
        "inner_join = pd.merge(df_lj8, df_col, on=[\"Nome\"], how=\"inner\")"
      ],
      "execution_count": 0,
      "outputs": []
    },
    {
      "cell_type": "code",
      "metadata": {
        "id": "O8TkRlvAN_Cb",
        "colab_type": "code",
        "colab": {}
      },
      "source": [
        "union = pd.concat([df_lj8,df_col], ignore_index=True)"
      ],
      "execution_count": 0,
      "outputs": []
    },
    {
      "cell_type": "code",
      "metadata": {
        "id": "9T-Cc07ZORX6",
        "colab_type": "code",
        "colab": {}
      },
      "source": [
        "union"
      ],
      "execution_count": 0,
      "outputs": []
    },
    {
      "cell_type": "code",
      "metadata": {
        "id": "Cobz6bavQeRh",
        "colab_type": "code",
        "colab": {}
      },
      "source": [
        "# Inner Join entre tabelas\n",
        "inner_join = pd.merge(df_lj8, df_col, on=[\"Nome\"], how=\"inner\")"
      ],
      "execution_count": 0,
      "outputs": []
    },
    {
      "cell_type": "code",
      "metadata": {
        "id": "6ZupH76zOSjD",
        "colab_type": "code",
        "colab": {}
      },
      "source": [
        "inner_join"
      ],
      "execution_count": 0,
      "outputs": []
    },
    {
      "cell_type": "code",
      "metadata": {
        "id": "Lhi9PqoeOlpt",
        "colab_type": "code",
        "colab": {}
      },
      "source": [
        "# Remover coluna no DataFrame\n",
        "inner_join.drop('Matrícula', inplace=True, axis=1)\n"
      ],
      "execution_count": 0,
      "outputs": []
    },
    {
      "cell_type": "code",
      "metadata": {
        "id": "GwrFfaFvPVkk",
        "colab_type": "code",
        "colab": {}
      },
      "source": [
        "inner_join"
      ],
      "execution_count": 0,
      "outputs": []
    },
    {
      "cell_type": "code",
      "metadata": {
        "id": "RHmxzN-TPXFS",
        "colab_type": "code",
        "colab": {}
      },
      "source": [
        "# Criando arquivo a partir de dataframe\n",
        "from google.colab import files\n",
        "inner_join.to_csv('eSocialCola.txt', sep=';') "
      ],
      "execution_count": 0,
      "outputs": []
    },
    {
      "cell_type": "code",
      "metadata": {
        "id": "YwFLmZeiPjHM",
        "colab_type": "code",
        "colab": {}
      },
      "source": [
        "# Realizar download do arquivo\n",
        "files.download('eSocialCola.txt') "
      ],
      "execution_count": 0,
      "outputs": []
    },
    {
      "cell_type": "code",
      "metadata": {
        "id": "XJ9cU0uwRdF6",
        "colab_type": "code",
        "colab": {}
      },
      "source": [
        "inner_join[inner_join.apply(lambda row: row.astype(str).str.contains('ALEXANDRE DE SOUZA SANTOS').any(), axis=1)]"
      ],
      "execution_count": 0,
      "outputs": []
    },
    {
      "cell_type": "code",
      "metadata": {
        "id": "zMZNUDCUQTNq",
        "colab_type": "code",
        "colab": {}
      },
      "source": [
        "inner_join[inner_join.apply(lambda row: row.astype(str).str.contains('73967190463101010120180101').any(), axis=1)]"
      ],
      "execution_count": 0,
      "outputs": []
    },
    {
      "cell_type": "code",
      "metadata": {
        "id": "KBNSxdwUQz-R",
        "colab_type": "code",
        "colab": {}
      },
      "source": [
        "total = pd.merge(df_lj8, df_col, on=[\"Nome\",\"Nome\"], how=\"left\")\n"
      ],
      "execution_count": 0,
      "outputs": []
    }
  ]
}