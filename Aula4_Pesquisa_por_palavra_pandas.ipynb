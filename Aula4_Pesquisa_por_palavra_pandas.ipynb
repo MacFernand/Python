{
  "nbformat": 4,
  "nbformat_minor": 0,
  "metadata": {
    "colab": {
      "name": "Aula4 - Pesquisa por palavra pandas",
      "provenance": [],
      "collapsed_sections": [],
      "include_colab_link": true
    },
    "kernelspec": {
      "name": "python3",
      "display_name": "Python 3"
    }
  },
  "cells": [
    {
      "cell_type": "markdown",
      "metadata": {
        "id": "view-in-github",
        "colab_type": "text"
      },
      "source": [
        "<a href=\"https://colab.research.google.com/github/MacFernand/Python/blob/master/Aula4_Pesquisa_por_palavra_pandas.ipynb\" target=\"_parent\"><img src=\"https://colab.research.google.com/assets/colab-badge.svg\" alt=\"Open In Colab\"/></a>"
      ]
    },
    {
      "cell_type": "markdown",
      "metadata": {
        "id": "fig47rpgjfbE",
        "colab_type": "text"
      },
      "source": [
        "# Conectando ao Driver"
      ]
    },
    {
      "cell_type": "code",
      "metadata": {
        "id": "R38rXJJJjl6y",
        "colab_type": "code",
        "outputId": "72863089-0c89-4939-e736-4f46c2db7995",
        "colab": {
          "base_uri": "https://localhost:8080/",
          "height": 34
        }
      },
      "source": [
        "from google.colab import drive\n",
        "drive.mount('/content/drive')"
      ],
      "execution_count": 82,
      "outputs": [
        {
          "output_type": "stream",
          "text": [
            "Drive already mounted at /content/drive; to attempt to forcibly remount, call drive.mount(\"/content/drive\", force_remount=True).\n"
          ],
          "name": "stdout"
        }
      ]
    },
    {
      "cell_type": "markdown",
      "metadata": {
        "id": "YoeCrQG8jwrr",
        "colab_type": "text"
      },
      "source": [
        "# Importando DataTable Google Colab\n"
      ]
    },
    {
      "cell_type": "code",
      "metadata": {
        "id": "hD1TRURqj3rj",
        "colab_type": "code",
        "colab": {}
      },
      "source": [
        "%load_ext google.colab.data_table"
      ],
      "execution_count": 0,
      "outputs": []
    },
    {
      "cell_type": "code",
      "metadata": {
        "id": "u0x5XGplkAJb",
        "colab_type": "code",
        "colab": {}
      },
      "source": [
        "from google.colab import data_table"
      ],
      "execution_count": 0,
      "outputs": []
    },
    {
      "cell_type": "markdown",
      "metadata": {
        "id": "ef8wGN2ZkDKz",
        "colab_type": "text"
      },
      "source": [
        "# Importando **Bibliotecas**"
      ]
    },
    {
      "cell_type": "code",
      "metadata": {
        "id": "EsWtgEGikFCC",
        "colab_type": "code",
        "colab": {}
      },
      "source": [
        "import pandas as pd\n",
        "import random as rd\n",
        "import numpy  as np\n"
      ],
      "execution_count": 0,
      "outputs": []
    },
    {
      "cell_type": "markdown",
      "metadata": {
        "id": "ZkoEHLlQkKsE",
        "colab_type": "text"
      },
      "source": [
        "# **Importando banco de dados**"
      ]
    },
    {
      "cell_type": "code",
      "metadata": {
        "id": "VxHOKc9-kNLc",
        "colab_type": "code",
        "colab": {}
      },
      "source": [
        "# Importando Dados de várias tabelas.\n",
        "df_epg = pd.read_csv('/content/drive/My Drive/Projetos/Promofarma/Base/DadosPromo.csv', sep=';', names=list(range(500))).dropna(axis='columns', how='all')"
      ],
      "execution_count": 0,
      "outputs": []
    },
    {
      "cell_type": "code",
      "metadata": {
        "id": "me0PnVtn3y_9",
        "colab_type": "code",
        "colab": {}
      },
      "source": [
        "# Importando Dados de várias tabelas.\n",
        "df_epg = pd.read_csv('/content/drive/My Drive/Projetos/Promofarma/Base/DadosPromo.csv', sep=';', names=list(range(500))).dropna(axis='columns', how='all')"
      ],
      "execution_count": 0,
      "outputs": []
    },
    {
      "cell_type": "markdown",
      "metadata": {
        "id": "oVeIr45pkvyN",
        "colab_type": "text"
      },
      "source": [
        "# **Pesquisa por palavra específica**"
      ]
    },
    {
      "cell_type": "code",
      "metadata": {
        "id": "mQAy9fmOkzkV",
        "colab_type": "code",
        "outputId": "9f1d7cf0-ffa2-4ac8-df24-6fc6aae5c102",
        "colab": {
          "base_uri": "https://localhost:8080/",
          "height": 143
        }
      },
      "source": [
        "# Pesquisa por nome do cargo sem saber qual tabela ou linha está.\n",
        "df_epg[df_epg.apply(lambda row: row.astype(str).str.contains('ASSISTENTE DE T.I').any(), axis=1)]"
      ],
      "execution_count": 113,
      "outputs": [
        {
          "output_type": "execute_result",
          "data": {
            "text/html": [
              "<div>\n",
              "<style scoped>\n",
              "    .dataframe tbody tr th:only-of-type {\n",
              "        vertical-align: middle;\n",
              "    }\n",
              "\n",
              "    .dataframe tbody tr th {\n",
              "        vertical-align: top;\n",
              "    }\n",
              "\n",
              "    .dataframe thead th {\n",
              "        text-align: right;\n",
              "    }\n",
              "</style>\n",
              "<table border=\"1\" class=\"dataframe\">\n",
              "  <thead>\n",
              "    <tr style=\"text-align: right;\">\n",
              "      <th></th>\n",
              "      <th>0</th>\n",
              "      <th>1</th>\n",
              "      <th>2</th>\n",
              "      <th>3</th>\n",
              "      <th>4</th>\n",
              "      <th>5</th>\n",
              "      <th>6</th>\n",
              "      <th>7</th>\n",
              "      <th>8</th>\n",
              "      <th>9</th>\n",
              "      <th>10</th>\n",
              "      <th>11</th>\n",
              "      <th>12</th>\n",
              "      <th>13</th>\n",
              "      <th>14</th>\n",
              "      <th>15</th>\n",
              "      <th>16</th>\n",
              "      <th>17</th>\n",
              "      <th>18</th>\n",
              "      <th>19</th>\n",
              "      <th>20</th>\n",
              "      <th>21</th>\n",
              "      <th>22</th>\n",
              "      <th>23</th>\n",
              "      <th>24</th>\n",
              "      <th>25</th>\n",
              "      <th>26</th>\n",
              "      <th>27</th>\n",
              "      <th>28</th>\n",
              "      <th>29</th>\n",
              "      <th>30</th>\n",
              "      <th>31</th>\n",
              "      <th>32</th>\n",
              "      <th>33</th>\n",
              "      <th>34</th>\n",
              "      <th>35</th>\n",
              "      <th>36</th>\n",
              "      <th>37</th>\n",
              "      <th>38</th>\n",
              "      <th>39</th>\n",
              "      <th>...</th>\n",
              "      <th>141</th>\n",
              "      <th>142</th>\n",
              "      <th>143</th>\n",
              "      <th>144</th>\n",
              "      <th>145</th>\n",
              "      <th>146</th>\n",
              "      <th>147</th>\n",
              "      <th>148</th>\n",
              "      <th>149</th>\n",
              "      <th>150</th>\n",
              "      <th>151</th>\n",
              "      <th>152</th>\n",
              "      <th>153</th>\n",
              "      <th>154</th>\n",
              "      <th>155</th>\n",
              "      <th>156</th>\n",
              "      <th>157</th>\n",
              "      <th>158</th>\n",
              "      <th>159</th>\n",
              "      <th>160</th>\n",
              "      <th>161</th>\n",
              "      <th>162</th>\n",
              "      <th>163</th>\n",
              "      <th>164</th>\n",
              "      <th>165</th>\n",
              "      <th>166</th>\n",
              "      <th>167</th>\n",
              "      <th>168</th>\n",
              "      <th>169</th>\n",
              "      <th>170</th>\n",
              "      <th>171</th>\n",
              "      <th>172</th>\n",
              "      <th>173</th>\n",
              "      <th>174</th>\n",
              "      <th>175</th>\n",
              "      <th>176</th>\n",
              "      <th>177</th>\n",
              "      <th>178</th>\n",
              "      <th>179</th>\n",
              "      <th>180</th>\n",
              "    </tr>\n",
              "  </thead>\n",
              "  <tbody>\n",
              "    <tr>\n",
              "      <th>1910</th>\n",
              "      <td>0010</td>\n",
              "      <td>037</td>\n",
              "      <td>ASSISTENTE DE T.I</td>\n",
              "      <td>313220</td>\n",
              "      <td>NaN</td>\n",
              "      <td>NaN</td>\n",
              "      <td>0</td>\n",
              "      <td>313220</td>\n",
              "      <td>NaN</td>\n",
              "      <td>NaN</td>\n",
              "      <td>NaN</td>\n",
              "      <td>NaN</td>\n",
              "      <td>NaN</td>\n",
              "      <td>NaN</td>\n",
              "      <td>NaN</td>\n",
              "      <td>NaN</td>\n",
              "      <td>NaN</td>\n",
              "      <td>NaN</td>\n",
              "      <td>NaN</td>\n",
              "      <td>NaN</td>\n",
              "      <td>NaN</td>\n",
              "      <td>NaN</td>\n",
              "      <td>NaN</td>\n",
              "      <td>NaN</td>\n",
              "      <td>NaN</td>\n",
              "      <td>NaN</td>\n",
              "      <td>NaN</td>\n",
              "      <td>NaN</td>\n",
              "      <td>NaN</td>\n",
              "      <td>NaN</td>\n",
              "      <td>NaN</td>\n",
              "      <td>NaN</td>\n",
              "      <td>NaN</td>\n",
              "      <td>NaN</td>\n",
              "      <td>NaN</td>\n",
              "      <td>NaN</td>\n",
              "      <td>NaN</td>\n",
              "      <td>NaN</td>\n",
              "      <td>NaN</td>\n",
              "      <td>NaN</td>\n",
              "      <td>...</td>\n",
              "      <td>NaN</td>\n",
              "      <td>NaN</td>\n",
              "      <td>NaN</td>\n",
              "      <td>NaN</td>\n",
              "      <td>NaN</td>\n",
              "      <td>NaN</td>\n",
              "      <td>NaN</td>\n",
              "      <td>NaN</td>\n",
              "      <td>NaN</td>\n",
              "      <td>NaN</td>\n",
              "      <td>NaN</td>\n",
              "      <td>NaN</td>\n",
              "      <td>NaN</td>\n",
              "      <td>NaN</td>\n",
              "      <td>NaN</td>\n",
              "      <td>NaN</td>\n",
              "      <td>NaN</td>\n",
              "      <td>NaN</td>\n",
              "      <td>NaN</td>\n",
              "      <td>NaN</td>\n",
              "      <td>NaN</td>\n",
              "      <td>NaN</td>\n",
              "      <td>NaN</td>\n",
              "      <td>NaN</td>\n",
              "      <td>NaN</td>\n",
              "      <td>NaN</td>\n",
              "      <td>NaN</td>\n",
              "      <td>NaN</td>\n",
              "      <td>NaN</td>\n",
              "      <td>NaN</td>\n",
              "      <td>NaN</td>\n",
              "      <td>NaN</td>\n",
              "      <td>NaN</td>\n",
              "      <td>NaN</td>\n",
              "      <td>NaN</td>\n",
              "      <td>NaN</td>\n",
              "      <td>NaN</td>\n",
              "      <td>NaN</td>\n",
              "      <td>NaN</td>\n",
              "      <td>NaN</td>\n",
              "    </tr>\n",
              "  </tbody>\n",
              "</table>\n",
              "<p>1 rows × 181 columns</p>\n",
              "</div>"
            ],
            "text/plain": [
              "       0    1                  2       3    4    ...  176  177  178  179  180\n",
              "1910  0010  037  ASSISTENTE DE T.I  313220  NaN  ...  NaN  NaN  NaN  NaN  NaN\n",
              "\n",
              "[1 rows x 181 columns]"
            ]
          },
          "metadata": {
            "tags": []
          },
          "execution_count": 113
        }
      ]
    },
    {
      "cell_type": "code",
      "metadata": {
        "id": "KuqPjiwclBLT",
        "colab_type": "code",
        "outputId": "f0502bfb-d40f-4c79-db3f-0ba97ef3ba17",
        "colab": {
          "base_uri": "https://localhost:8080/",
          "height": 160
        }
      },
      "source": [
        "# Pesquisa por nome do evento sem saber qual tabela ou linha está.\n",
        "df2 = df_epg[df_epg.apply(lambda row: row.astype(str).str.contains('Hora Extra 50%').any(), axis=1)]\n",
        "df2.head(1)"
      ],
      "execution_count": 114,
      "outputs": [
        {
          "output_type": "execute_result",
          "data": {
            "text/html": [
              "<div>\n",
              "<style scoped>\n",
              "    .dataframe tbody tr th:only-of-type {\n",
              "        vertical-align: middle;\n",
              "    }\n",
              "\n",
              "    .dataframe tbody tr th {\n",
              "        vertical-align: top;\n",
              "    }\n",
              "\n",
              "    .dataframe thead th {\n",
              "        text-align: right;\n",
              "    }\n",
              "</style>\n",
              "<table border=\"1\" class=\"dataframe\">\n",
              "  <thead>\n",
              "    <tr style=\"text-align: right;\">\n",
              "      <th></th>\n",
              "      <th>0</th>\n",
              "      <th>1</th>\n",
              "      <th>2</th>\n",
              "      <th>3</th>\n",
              "      <th>4</th>\n",
              "      <th>5</th>\n",
              "      <th>6</th>\n",
              "      <th>7</th>\n",
              "      <th>8</th>\n",
              "      <th>9</th>\n",
              "      <th>10</th>\n",
              "      <th>11</th>\n",
              "      <th>12</th>\n",
              "      <th>13</th>\n",
              "      <th>14</th>\n",
              "      <th>15</th>\n",
              "      <th>16</th>\n",
              "      <th>17</th>\n",
              "      <th>18</th>\n",
              "      <th>19</th>\n",
              "      <th>20</th>\n",
              "      <th>21</th>\n",
              "      <th>22</th>\n",
              "      <th>23</th>\n",
              "      <th>24</th>\n",
              "      <th>25</th>\n",
              "      <th>26</th>\n",
              "      <th>27</th>\n",
              "      <th>28</th>\n",
              "      <th>29</th>\n",
              "      <th>30</th>\n",
              "      <th>31</th>\n",
              "      <th>32</th>\n",
              "      <th>33</th>\n",
              "      <th>34</th>\n",
              "      <th>35</th>\n",
              "      <th>36</th>\n",
              "      <th>37</th>\n",
              "      <th>38</th>\n",
              "      <th>39</th>\n",
              "      <th>...</th>\n",
              "      <th>141</th>\n",
              "      <th>142</th>\n",
              "      <th>143</th>\n",
              "      <th>144</th>\n",
              "      <th>145</th>\n",
              "      <th>146</th>\n",
              "      <th>147</th>\n",
              "      <th>148</th>\n",
              "      <th>149</th>\n",
              "      <th>150</th>\n",
              "      <th>151</th>\n",
              "      <th>152</th>\n",
              "      <th>153</th>\n",
              "      <th>154</th>\n",
              "      <th>155</th>\n",
              "      <th>156</th>\n",
              "      <th>157</th>\n",
              "      <th>158</th>\n",
              "      <th>159</th>\n",
              "      <th>160</th>\n",
              "      <th>161</th>\n",
              "      <th>162</th>\n",
              "      <th>163</th>\n",
              "      <th>164</th>\n",
              "      <th>165</th>\n",
              "      <th>166</th>\n",
              "      <th>167</th>\n",
              "      <th>168</th>\n",
              "      <th>169</th>\n",
              "      <th>170</th>\n",
              "      <th>171</th>\n",
              "      <th>172</th>\n",
              "      <th>173</th>\n",
              "      <th>174</th>\n",
              "      <th>175</th>\n",
              "      <th>176</th>\n",
              "      <th>177</th>\n",
              "      <th>178</th>\n",
              "      <th>179</th>\n",
              "      <th>180</th>\n",
              "    </tr>\n",
              "  </thead>\n",
              "  <tbody>\n",
              "    <tr>\n",
              "      <th>1970</th>\n",
              "      <td>060</td>\n",
              "      <td>Hora Extra 50%</td>\n",
              "      <td>Hora Extra 50%</td>\n",
              "      <td>1</td>\n",
              "      <td>rpHoraExtra(50)</td>\n",
              "      <td>vpHoraExtra(50)</td>\n",
              "      <td>S</td>\n",
              "      <td>Qtd. Horas</td>\n",
              "      <td>1</td>\n",
              "      <td>S</td>\n",
              "      <td>HorasMinutos</td>\n",
              "      <td>1</td>\n",
              "      <td>0</td>\n",
              "      <td>0001</td>\n",
              "      <td>0,000</td>\n",
              "      <td>0,000</td>\n",
              "      <td>NaN</td>\n",
              "      <td>0</td>\n",
              "      <td>0</td>\n",
              "      <td>0</td>\n",
              "      <td>NaN</td>\n",
              "      <td>NaN</td>\n",
              "      <td>NaN</td>\n",
              "      <td>NaN</td>\n",
              "      <td>NaN</td>\n",
              "      <td>NaN</td>\n",
              "      <td>NaN</td>\n",
              "      <td>NaN</td>\n",
              "      <td>0</td>\n",
              "      <td>00</td>\n",
              "      <td>NaN</td>\n",
              "      <td>NaN</td>\n",
              "      <td>NaN</td>\n",
              "      <td>NaN</td>\n",
              "      <td>NaN</td>\n",
              "      <td>NaN</td>\n",
              "      <td>NaN</td>\n",
              "      <td>NaN</td>\n",
              "      <td>NaN</td>\n",
              "      <td>NaN</td>\n",
              "      <td>...</td>\n",
              "      <td>NaN</td>\n",
              "      <td>NaN</td>\n",
              "      <td>NaN</td>\n",
              "      <td>NaN</td>\n",
              "      <td>NaN</td>\n",
              "      <td>NaN</td>\n",
              "      <td>NaN</td>\n",
              "      <td>NaN</td>\n",
              "      <td>NaN</td>\n",
              "      <td>NaN</td>\n",
              "      <td>NaN</td>\n",
              "      <td>NaN</td>\n",
              "      <td>NaN</td>\n",
              "      <td>NaN</td>\n",
              "      <td>NaN</td>\n",
              "      <td>NaN</td>\n",
              "      <td>NaN</td>\n",
              "      <td>NaN</td>\n",
              "      <td>NaN</td>\n",
              "      <td>NaN</td>\n",
              "      <td>NaN</td>\n",
              "      <td>NaN</td>\n",
              "      <td>NaN</td>\n",
              "      <td>NaN</td>\n",
              "      <td>NaN</td>\n",
              "      <td>NaN</td>\n",
              "      <td>NaN</td>\n",
              "      <td>NaN</td>\n",
              "      <td>NaN</td>\n",
              "      <td>NaN</td>\n",
              "      <td>NaN</td>\n",
              "      <td>NaN</td>\n",
              "      <td>NaN</td>\n",
              "      <td>NaN</td>\n",
              "      <td>NaN</td>\n",
              "      <td>NaN</td>\n",
              "      <td>NaN</td>\n",
              "      <td>NaN</td>\n",
              "      <td>NaN</td>\n",
              "      <td>NaN</td>\n",
              "    </tr>\n",
              "  </tbody>\n",
              "</table>\n",
              "<p>1 rows × 181 columns</p>\n",
              "</div>"
            ],
            "text/plain": [
              "      0               1               2   3    ...  177  178  179  180\n",
              "1970  060  Hora Extra 50%  Hora Extra 50%   1  ...  NaN  NaN  NaN  NaN\n",
              "\n",
              "[1 rows x 181 columns]"
            ]
          },
          "metadata": {
            "tags": []
          },
          "execution_count": 114
        }
      ]
    },
    {
      "cell_type": "code",
      "metadata": {
        "id": "_i4xaEIFlmXk",
        "colab_type": "code",
        "colab": {}
      },
      "source": [
        "# Pesquisa por nome da empresa sem saber qual tabela ou linha está.\n",
        "df2 = df_epg[df_epg.apply(lambda row: row.astype(str).str.contains('ORGANIZAÇÃO FARMACÊUTICA NAKANO LTDA').any(), axis=1)]\n",
        "df2"
      ],
      "execution_count": 0,
      "outputs": []
    },
    {
      "cell_type": "code",
      "metadata": {
        "id": "jAU8sBc1mHRu",
        "colab_type": "code",
        "outputId": "a5b6b2f1-409e-4dd9-8baf-6fd437751cc5",
        "colab": {
          "base_uri": "https://localhost:8080/",
          "height": 126
        }
      },
      "source": [
        "# Pesquisa por nome da coluna sem saber qual tabela ou linha está.\n",
        "df2 = df_epg[df_epg.apply(lambda row: row.astype(str).str.contains('IND_CODIGO_SALARIO').any(), axis=1)]\n",
        "df2"
      ],
      "execution_count": 116,
      "outputs": [
        {
          "output_type": "execute_result",
          "data": {
            "text/html": [
              "<div>\n",
              "<style scoped>\n",
              "    .dataframe tbody tr th:only-of-type {\n",
              "        vertical-align: middle;\n",
              "    }\n",
              "\n",
              "    .dataframe tbody tr th {\n",
              "        vertical-align: top;\n",
              "    }\n",
              "\n",
              "    .dataframe thead th {\n",
              "        text-align: right;\n",
              "    }\n",
              "</style>\n",
              "<table border=\"1\" class=\"dataframe\">\n",
              "  <thead>\n",
              "    <tr style=\"text-align: right;\">\n",
              "      <th></th>\n",
              "      <th>0</th>\n",
              "      <th>1</th>\n",
              "      <th>2</th>\n",
              "      <th>3</th>\n",
              "      <th>4</th>\n",
              "      <th>5</th>\n",
              "      <th>6</th>\n",
              "      <th>7</th>\n",
              "      <th>8</th>\n",
              "      <th>9</th>\n",
              "      <th>10</th>\n",
              "      <th>11</th>\n",
              "      <th>12</th>\n",
              "      <th>13</th>\n",
              "      <th>14</th>\n",
              "      <th>15</th>\n",
              "      <th>16</th>\n",
              "      <th>17</th>\n",
              "      <th>18</th>\n",
              "      <th>19</th>\n",
              "      <th>20</th>\n",
              "      <th>21</th>\n",
              "      <th>22</th>\n",
              "      <th>23</th>\n",
              "      <th>24</th>\n",
              "      <th>25</th>\n",
              "      <th>26</th>\n",
              "      <th>27</th>\n",
              "      <th>28</th>\n",
              "      <th>29</th>\n",
              "      <th>30</th>\n",
              "      <th>31</th>\n",
              "      <th>32</th>\n",
              "      <th>33</th>\n",
              "      <th>34</th>\n",
              "      <th>35</th>\n",
              "      <th>36</th>\n",
              "      <th>37</th>\n",
              "      <th>38</th>\n",
              "      <th>39</th>\n",
              "      <th>...</th>\n",
              "      <th>141</th>\n",
              "      <th>142</th>\n",
              "      <th>143</th>\n",
              "      <th>144</th>\n",
              "      <th>145</th>\n",
              "      <th>146</th>\n",
              "      <th>147</th>\n",
              "      <th>148</th>\n",
              "      <th>149</th>\n",
              "      <th>150</th>\n",
              "      <th>151</th>\n",
              "      <th>152</th>\n",
              "      <th>153</th>\n",
              "      <th>154</th>\n",
              "      <th>155</th>\n",
              "      <th>156</th>\n",
              "      <th>157</th>\n",
              "      <th>158</th>\n",
              "      <th>159</th>\n",
              "      <th>160</th>\n",
              "      <th>161</th>\n",
              "      <th>162</th>\n",
              "      <th>163</th>\n",
              "      <th>164</th>\n",
              "      <th>165</th>\n",
              "      <th>166</th>\n",
              "      <th>167</th>\n",
              "      <th>168</th>\n",
              "      <th>169</th>\n",
              "      <th>170</th>\n",
              "      <th>171</th>\n",
              "      <th>172</th>\n",
              "      <th>173</th>\n",
              "      <th>174</th>\n",
              "      <th>175</th>\n",
              "      <th>176</th>\n",
              "      <th>177</th>\n",
              "      <th>178</th>\n",
              "      <th>179</th>\n",
              "      <th>180</th>\n",
              "    </tr>\n",
              "  </thead>\n",
              "  <tbody>\n",
              "    <tr>\n",
              "      <th>3814</th>\n",
              "      <td>EMP_CODIGO</td>\n",
              "      <td>EPG_CODIGO</td>\n",
              "      <td>DATA</td>\n",
              "      <td>CAR_CODIGO</td>\n",
              "      <td>IND_CODIGO_SALARIO</td>\n",
              "      <td>EST_CODIGO</td>\n",
              "      <td>HOR_CODIGO</td>\n",
              "      <td>LOT_CODIGO</td>\n",
              "      <td>SIN_CODIGO</td>\n",
              "      <td>TOM_CODIGO</td>\n",
              "      <td>SALCONTRATUAL</td>\n",
              "      <td>SALTIPO</td>\n",
              "      <td>EXPAGENOCIV</td>\n",
              "      <td>VALOR</td>\n",
              "      <td>INDQTDE</td>\n",
              "      <td>VALETRANSPORTEALIQ</td>\n",
              "      <td>TIPOPAGAMENTO</td>\n",
              "      <td>VALETRANSPORTE</td>\n",
              "      <td>DESCONTOVALE</td>\n",
              "      <td>HORARIOINTERVALO</td>\n",
              "      <td>OUTROSVINCULOS</td>\n",
              "      <td>REMUNEROUTROSVINCULOS</td>\n",
              "      <td>DESCOUTROSVINCULOS</td>\n",
              "      <td>VALEREFEICAO</td>\n",
              "      <td>VRF_TIPO</td>\n",
              "      <td>ADIANTAMENTO</td>\n",
              "      <td>PERCENTUALADIANT</td>\n",
              "      <td>BATEPONTO</td>\n",
              "      <td>MSL_ID</td>\n",
              "      <td>VALORADIANT</td>\n",
              "      <td>ADIANTTIPO</td>\n",
              "      <td>RH_SEP_ID</td>\n",
              "      <td>CES_CODIGO</td>\n",
              "      <td>IPS_ID</td>\n",
              "      <td>DSRPOROCORRENCIA</td>\n",
              "      <td>RETROATIVA</td>\n",
              "      <td>DTRETROATIVA</td>\n",
              "      <td>VINTIPO</td>\n",
              "      <td>TIPOSALARIO</td>\n",
              "      <td>COMISSIONADO</td>\n",
              "      <td>...</td>\n",
              "      <td>NaN</td>\n",
              "      <td>NaN</td>\n",
              "      <td>NaN</td>\n",
              "      <td>NaN</td>\n",
              "      <td>NaN</td>\n",
              "      <td>NaN</td>\n",
              "      <td>NaN</td>\n",
              "      <td>NaN</td>\n",
              "      <td>NaN</td>\n",
              "      <td>NaN</td>\n",
              "      <td>NaN</td>\n",
              "      <td>NaN</td>\n",
              "      <td>NaN</td>\n",
              "      <td>NaN</td>\n",
              "      <td>NaN</td>\n",
              "      <td>NaN</td>\n",
              "      <td>NaN</td>\n",
              "      <td>NaN</td>\n",
              "      <td>NaN</td>\n",
              "      <td>NaN</td>\n",
              "      <td>NaN</td>\n",
              "      <td>NaN</td>\n",
              "      <td>NaN</td>\n",
              "      <td>NaN</td>\n",
              "      <td>NaN</td>\n",
              "      <td>NaN</td>\n",
              "      <td>NaN</td>\n",
              "      <td>NaN</td>\n",
              "      <td>NaN</td>\n",
              "      <td>NaN</td>\n",
              "      <td>NaN</td>\n",
              "      <td>NaN</td>\n",
              "      <td>NaN</td>\n",
              "      <td>NaN</td>\n",
              "      <td>NaN</td>\n",
              "      <td>NaN</td>\n",
              "      <td>NaN</td>\n",
              "      <td>NaN</td>\n",
              "      <td>NaN</td>\n",
              "      <td>NaN</td>\n",
              "    </tr>\n",
              "  </tbody>\n",
              "</table>\n",
              "<p>1 rows × 181 columns</p>\n",
              "</div>"
            ],
            "text/plain": [
              "             0           1     2           3    ...  177  178  179  180\n",
              "3814  EMP_CODIGO  EPG_CODIGO  DATA  CAR_CODIGO  ...  NaN  NaN  NaN  NaN\n",
              "\n",
              "[1 rows x 181 columns]"
            ]
          },
          "metadata": {
            "tags": []
          },
          "execution_count": 116
        }
      ]
    },
    {
      "cell_type": "code",
      "metadata": {
        "id": "OM6Eh35IoOF3",
        "colab_type": "code",
        "colab": {}
      },
      "source": [
        "# Pesquisa por nome do estabelecimento sem saber qual tabela ou linha está.\n",
        "df2 = df_epg[df_epg.apply(lambda row: row.astype(str).str.contains('ORGANIZAÇÃO LOJA 10').any(), axis=1)]\n",
        "df2"
      ],
      "execution_count": 0,
      "outputs": []
    },
    {
      "cell_type": "code",
      "metadata": {
        "id": "6bzhTD0fmpdJ",
        "colab_type": "code",
        "outputId": "24e3b8d6-d879-4b9b-d249-b40c7fde9d6c",
        "colab": {
          "base_uri": "https://localhost:8080/",
          "height": 230
        }
      },
      "source": [
        "df_epg.iloc[2806]"
      ],
      "execution_count": 118,
      "outputs": [
        {
          "output_type": "execute_result",
          "data": {
            "text/plain": [
              "0                            391\n",
              "1      Arredondamento (Desconto)\n",
              "2        Arredondamento Desconto\n",
              "3                              2\n",
              "4                            NaN\n",
              "                 ...            \n",
              "176                          NaN\n",
              "177                          NaN\n",
              "178                          NaN\n",
              "179                          NaN\n",
              "180                          NaN\n",
              "Name: 2806, Length: 181, dtype: object"
            ]
          },
          "metadata": {
            "tags": []
          },
          "execution_count": 118
        }
      ]
    },
    {
      "cell_type": "code",
      "metadata": {
        "id": "PFYynk0po4DY",
        "colab_type": "code",
        "colab": {}
      },
      "source": [
        "#Passando como parâmetro do construtor um caminho, você terá um objeto que representa o diretório:\n",
        "from pathlib import Path\n",
        "\n",
        "path = Path('/content/drive/My Drive/Projetos/Bras/')"
      ],
      "execution_count": 0,
      "outputs": []
    },
    {
      "cell_type": "code",
      "metadata": {
        "id": "OiyZuY_eo38A",
        "colab_type": "code",
        "colab": {}
      },
      "source": [
        "#Um dos métodos dessa classe é o glob, que pode buscar por arquivos que casam com um determinado nome:\n",
        "letters_files = path.glob('BANCOS*.txt')"
      ],
      "execution_count": 0,
      "outputs": []
    },
    {
      "cell_type": "code",
      "metadata": {
        "id": "q8MHUesGpNfM",
        "colab_type": "code",
        "colab": {}
      },
      "source": [
        "#Assim, você pode percorrer este iterável e utilizar o método read_text para obter o conteúdo de cada arquivo:\n",
        "letters = [letter.read_text() for letter in letters_files]"
      ],
      "execution_count": 0,
      "outputs": []
    },
    {
      "cell_type": "code",
      "metadata": {
        "id": "fps2Tl1ypdGI",
        "colab_type": "code",
        "colab": {}
      },
      "source": [
        "from pathlib import Path\n",
        "\n",
        "path = Path('/content/drive/My Drive/Projetos/Bras/', sep=',')\n",
        "letters_files = path.glob('*.txt')\n",
        "letters = [letter.read_text() for letter in letters_files]\n",
        "\n",
        "print(letters)"
      ],
      "execution_count": 0,
      "outputs": []
    },
    {
      "cell_type": "code",
      "metadata": {
        "id": "JeDor0tapvFQ",
        "colab_type": "code",
        "outputId": "32f3183c-5df9-400f-bda1-bc8cf539d29f",
        "colab": {
          "base_uri": "https://localhost:8080/",
          "height": 34
        }
      },
      "source": [
        "letters"
      ],
      "execution_count": 0,
      "outputs": [
        {
          "output_type": "execute_result",
          "data": {
            "text/plain": [
              "[]"
            ]
          },
          "metadata": {
            "tags": []
          },
          "execution_count": 49
        }
      ]
    },
    {
      "cell_type": "code",
      "metadata": {
        "id": "jFzujB-uqWZI",
        "colab_type": "code",
        "outputId": "dd34a377-8741-47da-c89d-611bc8bae968",
        "colab": {
          "base_uri": "https://localhost:8080/",
          "height": 54
        }
      },
      "source": [
        "from os import listdir\n",
        "\n",
        "def listar_arquivos(caminho=None):\n",
        "    lista_arqs = [arq for arq in listdir(caminho)]\n",
        "    return lista_arqs\n",
        "\n",
        "if __name__ == '__main__':\n",
        "    arquivos = listar_arquivos(caminho=\"/content/drive/My Drive/Projetos/Bras/\")\n",
        "    print(arquivos)"
      ],
      "execution_count": 81,
      "outputs": [
        {
          "output_type": "stream",
          "text": [
            "['ATRIBADIC.txt', 'ATRIBUTO.txt', 'ATRIBENT.txt', 'ATRIBFUN.txt', 'CENCUSTO.txt', 'BANCOS.txt', 'BANCOSAG.txt', 'CARGOS.txt', 'EMPRESAS.txt', 'DEPSFIR.txt', 'EVEFUNC.txt', 'EVENTOS.txt', 'FOLHAS.txt', 'INSTITUICAO_ENSINO.txt', 'LOTACOESHIST.txt', 'OCORRENC.txt', 'OCORFUNC.txt', 'MUNICIP.txt', 'LOTACOES.txt', 'FUNCIONA.txt', 'PAISES.txt', 'TABAUX.txt', 'SINDICAT.txt', 'SITUACAO.txt', 'PROGEVE.txt', 'PENSIONI.txt', 'VALANO.txt']\n"
          ],
          "name": "stdout"
        }
      ]
    },
    {
      "cell_type": "code",
      "metadata": {
        "id": "GlImcYmiyBje",
        "colab_type": "code",
        "outputId": "e82dceae-802e-418f-b9d4-ecfb76a609e1",
        "colab": {
          "base_uri": "https://localhost:8080/",
          "height": 34
        }
      },
      "source": [
        "import glob, os\n",
        "os.chdir(\"/content/drive/My Drive/Projetos/Bras/\")\n",
        "for file in glob.glob(\"CARGOS*.txt\"):\n",
        "    print(file)"
      ],
      "execution_count": 103,
      "outputs": [
        {
          "output_type": "stream",
          "text": [
            "CARGOS.txt\n"
          ],
          "name": "stdout"
        }
      ]
    },
    {
      "cell_type": "code",
      "metadata": {
        "id": "C23kSdgTyZu2",
        "colab_type": "code",
        "colab": {}
      },
      "source": [
        ">>> import glob\n",
        ">>> for file in glob.glob('*.txt'):\n",
        "...     for line in open(file):\n",
        "...         if not line.strip().startswith('#'):\n",
        "...             print (line)"
      ],
      "execution_count": 0,
      "outputs": []
    },
    {
      "cell_type": "code",
      "metadata": {
        "id": "op2U32Sc5Cx3",
        "colab_type": "code",
        "colab": {
          "base_uri": "https://localhost:8080/",
          "height": 34
        },
        "outputId": "61211749-092a-43e2-e8cc-74ceba7efc95"
      },
      "source": [
        "line"
      ],
      "execution_count": 108,
      "outputs": [
        {
          "output_type": "execute_result",
          "data": {
            "text/plain": [
              "'202;3193713;1009;20190901;20190901;0;58153;E;;0;55;0;1;0;0;469.13;0;;0|1|N;;;;0;0\\n'"
            ]
          },
          "metadata": {
            "tags": []
          },
          "execution_count": 108
        }
      ]
    },
    {
      "cell_type": "code",
      "metadata": {
        "id": "cW31MGZr2MpV",
        "colab_type": "code",
        "colab": {}
      },
      "source": [
        "\n",
        "df_epg[df_epg.apply(lambda row: row.astype(str).str.contains('ORGANIZAÇÃO LOJA 10').any(), axis=1)]"
      ],
      "execution_count": 0,
      "outputs": []
    }
  ]
}